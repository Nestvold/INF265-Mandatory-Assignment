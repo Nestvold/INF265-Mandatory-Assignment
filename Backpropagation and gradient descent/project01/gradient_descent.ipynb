{
 "cells": [
  {
   "cell_type": "code",
   "execution_count": null,
   "metadata": {},
   "outputs": [],
   "source": []
  }
 ],
 "metadata": {
  "kernelspec": {
   "display_name": "Python 3",
   "language": "python",
   "name": "python3"
  },
  "language_info": {
   "name": "python",
   "version": "3.9.7"
  },
  "orig_nbformat": 4,
  "vscode": {
   "interpreter": {
    "hash": "22f93db960620e9dad2a891f8bd45e502d94787f38eff7ff8434d41b6ba52dfa"
   }
  }
 },
 "nbformat": 4,
 "nbformat_minor": 2
}
